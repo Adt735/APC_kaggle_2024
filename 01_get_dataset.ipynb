{
 "cells": [
  {
   "cell_type": "code",
   "execution_count": null,
   "metadata": {},
   "outputs": [],
   "source": [
    "import re\n",
    "import chess\n",
    "import chess.pgn\n",
    "import io\n",
    "import subprocess\n",
    "import csv\n",
    "from concurrent.futures import ThreadPoolExecutor, as_completed\n",
    "\n",
    "# Path to the file containing the chess game data\n",
    "file_path = \"lichess_elite_2024-10.pgn\"\n",
    "# Path to the Stockfish executable\n",
    "stockfish_path = \"C:/Users/adtro/Downloads/stockfish-windows-x86-64-avx2/stockfish/stockfish-windows-x86-64-avx2.exe\"\n",
    "# Output path of the dataset (FEN, eval)\n",
    "csv_path = \"./dataset.csv\""
   ]
  },
  {
   "cell_type": "code",
   "execution_count": null,
   "metadata": {},
   "outputs": [],
   "source": [
    "# Read the content of the file\n",
    "with open(file_path, \"r\") as file:\n",
    "    chess_data = file.read()\n",
    "    \n",
    "# Regex pattern to extract each game, including headers and moves\n",
    "game_pattern = r'(?s)\\[Event.*?\\n\\n(1\\..*?)\\n\\n'\n",
    "\n",
    "# Use re.findall to extract all games\n",
    "games = re.findall(game_pattern, chess_data)\n",
    "\n",
    "# Print the extracted games\n",
    "for i, game in enumerate(games, 1):\n",
    "    print(f\"Game {i}:\\n{game}\\n\")"
   ]
  },
  {
   "cell_type": "code",
   "execution_count": null,
   "metadata": {},
   "outputs": [],
   "source": [
    "def get_fens_from_game(game_text):\n",
    "    \"\"\"\n",
    "    Extract FEN strings for each move in a chess game.\n",
    "\n",
    "    Parameters:\n",
    "        game_text (str): The PGN text of a single game.\n",
    "\n",
    "    Returns:\n",
    "        list: A list of FEN strings, one for each move.\n",
    "    \"\"\"\n",
    "    # Parse the game text using chess.pgn\n",
    "    pgn = io.StringIO(game_text)\n",
    "    game = chess.pgn.read_game(pgn)\n",
    "    \n",
    "    # Initialize the board\n",
    "    board = game.board()\n",
    "    \n",
    "    # List to store FENs\n",
    "    fens = []\n",
    "    \n",
    "    # Play through the moves\n",
    "    for move in game.mainline_moves():\n",
    "        board.push(move)\n",
    "        fens.append(board.fen())\n",
    "    return fens\n",
    "\n",
    "get_fens_from_game(games[0])"
   ]
  },
  {
   "cell_type": "code",
   "execution_count": null,
   "metadata": {},
   "outputs": [],
   "source": [
    "def get_stockfish_eval(fen):\n",
    "    \"\"\"\n",
    "    Run Stockfish commands on a given FEN and retrieve the evaluation.\n",
    "\n",
    "    Parameters:\n",
    "        fen (str): The FEN string to analyze.\n",
    "\n",
    "    Returns:\n",
    "        str: Stockfish's evaluation output.\n",
    "    \"\"\"\n",
    "\n",
    "    # Start the Stockfish process\n",
    "    with subprocess.Popen(stockfish_path, stdin=subprocess.PIPE, stdout=subprocess.PIPE, text=True) as stockfish:\n",
    "        try:\n",
    "            # Send the FEN position command\n",
    "            stockfish.stdin.write(f\"position fen {fen}\\n\")\n",
    "            stockfish.stdin.flush()\n",
    "\n",
    "            # Send the 'eval' command\n",
    "            stockfish.stdin.write(\"eval\\n\")\n",
    "            stockfish.stdin.flush()\n",
    "\n",
    "            # Read Stockfish output and look for 'Final evaluation'\n",
    "            for _ in range(50):\n",
    "                line = stockfish.stdout.readline().strip()\n",
    "                if \"Final evaluation\" in line:\n",
    "                    # Extract the last number from the line using regex\n",
    "                    match = re.search(r\"([-+]?\\d+\\.\\d+)\", line)\n",
    "                    if match:\n",
    "                        final_eval = float(match.group(1))\n",
    "                        return final_eval\n",
    "                    return None\n",
    "            return None\n",
    "\n",
    "        except Exception as e:\n",
    "            return f\"An error occurred: {e}\"\n",
    "\n",
    "example_fen = get_fens_from_game(games[0])[0]  \n",
    "evaluation = get_stockfish_eval(example_fen)\n",
    "print(f\"Evaluation of '{example_fen}': {evaluation}\")"
   ]
  },
  {
   "cell_type": "code",
   "execution_count": null,
   "metadata": {},
   "outputs": [],
   "source": [
    "def create_fen_eval_dataset_parallel(fen_list, output_file):\n",
    "    \"\"\"\n",
    "    Generate a dataset of FEN positions and their Stockfish evaluations in parallel.\n",
    "\n",
    "    Parameters:\n",
    "        fen_list (list of str): List of FEN strings to analyze.\n",
    "        output_file (str): Path to the output CSV file.\n",
    "\n",
    "    Returns:\n",
    "        None: Writes the dataset to a CSV file.\n",
    "    \"\"\"\n",
    "    def process_fen(fen):\n",
    "        \"\"\"Process a single FEN and return the result as a tuple (fen, evaluation).\"\"\"\n",
    "        try:\n",
    "            eval_score = get_stockfish_eval(fen)\n",
    "            if eval_score is None:\n",
    "                return (fen, None)  # Skip FENs with no evaluation\n",
    "            return (fen, eval_score)\n",
    "        except Exception as e:\n",
    "            print(f\"Error processing FEN: {fen} -> {e}\")\n",
    "            return (fen, None)  # Return None to handle errors gracefully\n",
    "\n",
    "    # Use ThreadPoolExecutor to process FENs in parallel\n",
    "    with ThreadPoolExecutor() as executor:\n",
    "        # Submit all FENs to the executor for processing\n",
    "        future_to_fen = {executor.submit(process_fen, fen): fen for fen in fen_list}\n",
    "\n",
    "        # Open the CSV file for writing\n",
    "        with open(output_file, mode=\"w\", newline=\"\", encoding=\"utf-8\") as file:\n",
    "            writer = csv.writer(file)\n",
    "            # Write the header\n",
    "            writer.writerow([\"fen\", \"evaluation\"])\n",
    "\n",
    "            # Track completed tasks and print index every 10 iterations\n",
    "            completed_count = 0\n",
    "            for future in as_completed(future_to_fen):\n",
    "                result = future.result()\n",
    "                if result and result[1] is not None:  # Write only valid results\n",
    "                    writer.writerow(result)\n",
    "\n",
    "                # Increment completed count and print the index every 10 iterations\n",
    "                completed_count += 1\n",
    "                if completed_count % 1000 == 0:\n",
    "                    print(f\"Processed {completed_count / 1000}% FENs...\")"
   ]
  },
  {
   "cell_type": "code",
   "execution_count": null,
   "metadata": {},
   "outputs": [],
   "source": [
    "fens = [get_fens_from_game(game) for game in games[:1200]]\n",
    "fens = [item for sublist in fens for item in sublist]\n",
    "fens = list(set(fens))"
   ]
  },
  {
   "cell_type": "code",
   "execution_count": null,
   "metadata": {},
   "outputs": [],
   "source": [
    "len(fens)"
   ]
  },
  {
   "cell_type": "code",
   "execution_count": null,
   "metadata": {},
   "outputs": [],
   "source": [
    "create_fen_eval_dataset_parallel(fens, csv_path)"
   ]
  },
  {
   "cell_type": "code",
   "execution_count": null,
   "metadata": {},
   "outputs": [],
   "source": [
    "import pandas as pd\n",
    "df = pd.read_csv(\"./final_data.csv\", header=None, index_col=0)\n",
    "df.drop_duplicates().to_csv(\"./final_data.csv\", header=None, index=False)"
   ]
  }
 ],
 "metadata": {
  "kernelspec": {
   "display_name": "Python 3",
   "language": "python",
   "name": "python3"
  },
  "language_info": {
   "codemirror_mode": {
    "name": "ipython",
    "version": 3
   },
   "file_extension": ".py",
   "mimetype": "text/x-python",
   "name": "python",
   "nbconvert_exporter": "python",
   "pygments_lexer": "ipython3",
   "version": "3.12.4"
  }
 },
 "nbformat": 4,
 "nbformat_minor": 2
}
